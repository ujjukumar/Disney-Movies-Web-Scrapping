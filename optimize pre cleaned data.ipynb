{
 "cells": [
  {
   "cell_type": "code",
   "execution_count": 32,
   "metadata": {},
   "outputs": [],
   "source": [
    "import pandas as pd\n",
    "import numpy as np"
   ]
  },
  {
   "cell_type": "code",
   "execution_count": 303,
   "metadata": {},
   "outputs": [],
   "source": [
    "df = pd.read_csv(\"optimized_data_v1.csv\")"
   ]
  },
  {
   "cell_type": "code",
   "execution_count": 315,
   "metadata": {},
   "outputs": [],
   "source": [
    "for entry in df.columns:\n",
    "    if df[entry].dtype == \"int64\":\n",
    "        df[entry] = df[entry].fillna(0)\n",
    "    elif df[entry].dtype == \"float64\":\n",
    "        df[entry] = df[entry].fillna(0.0)\n",
    "    else:\n",
    "        df[entry] = df[entry].fillna(\"N/A\")"
   ]
  },
  {
   "cell_type": "code",
   "execution_count": 322,
   "metadata": {},
   "outputs": [
    {
     "output_type": "stream",
     "name": "stdout",
     "text": [
      "<class 'pandas.core.frame.DataFrame'>\nRangeIndex: 438 entries, 0 to 437\nData columns (total 23 columns):\n #   Column              Non-Null Count  Dtype  \n---  ------              --------------  -----  \n 0   Box office          438 non-null    int64  \n 1   Budget              438 non-null    int64  \n 2   Country             438 non-null    object \n 3   Image               438 non-null    object \n 4   Imdb Rating         438 non-null    float64\n 5   Language            438 non-null    object \n 6   Metacritics         438 non-null    object \n 7   Production company  438 non-null    object \n 8   Release date        438 non-null    object \n 9   Rotten Tomatoes     438 non-null    object \n 10  Running time        438 non-null    int64  \n 11  Title               438 non-null    object \n 12  Based on            438 non-null    object \n 13  Directed by         438 non-null    object \n 14  Distributed by      438 non-null    object \n 15  Music by            438 non-null    object \n 16  Produced by         438 non-null    object \n 17  Starring            438 non-null    object \n 18  Written by          438 non-null    object \n 19  Story by            438 non-null    object \n 20  Cinematography      438 non-null    object \n 21  Edited by           438 non-null    object \n 22  Screenplay by       438 non-null    object \ndtypes: float64(1), int64(3), object(19)\nmemory usage: 78.8+ KB\n"
     ]
    }
   ],
   "source": [
    "df.info()"
   ]
  },
  {
   "cell_type": "code",
   "execution_count": 54,
   "metadata": {},
   "outputs": [],
   "source": [
    "df[\"Box office\"] = df[\"Box office\"].fillna(0)"
   ]
  },
  {
   "cell_type": "code",
   "execution_count": 23,
   "metadata": {},
   "outputs": [],
   "source": [
    "df = df.fillna(\"N/A\")"
   ]
  },
  {
   "cell_type": "code",
   "execution_count": 43,
   "metadata": {},
   "outputs": [],
   "source": [
    "df[\"Box office\"].replace(to_replace=['None'], value=np.nan, inplace=True)"
   ]
  },
  {
   "cell_type": "code",
   "execution_count": 59,
   "metadata": {},
   "outputs": [],
   "source": [
    "df[\"Running time\"] = df[\"Running time\"].astype(\"Int32\")"
   ]
  },
  {
   "cell_type": "code",
   "execution_count": 227,
   "metadata": {},
   "outputs": [],
   "source": [
    "# To get rows or columnsbased on index\n",
    "a = list(df.iloc[:, 12])"
   ]
  },
  {
   "cell_type": "code",
   "execution_count": 237,
   "metadata": {},
   "outputs": [],
   "source": [
    "import string"
   ]
  },
  {
   "cell_type": "code",
   "execution_count": 238,
   "metadata": {},
   "outputs": [],
   "source": [
    "def clean_it(list_a):\n",
    "    new_a = []\n",
    "    for i, v in enumerate(list_a):\n",
    "        if v == \"N/A\":\n",
    "            new_a.append(v)\n",
    "            continue\n",
    "\n",
    "        b = v.replace(\"\\\"\", \"\").replace(\"'\", \"\")\n",
    "        b = b.strip('][').split(', ')\n",
    "        for i, entry in enumerate(b):\n",
    "            if entry == \"\":\n",
    "                del b[i]\n",
    "\n",
    "        comma_list = []\n",
    "        for i, v in enumerate(b):\n",
    "            if v == \"by\" and i+2 < len(b):\n",
    "                comma_list.append(i+2)\n",
    "\n",
    "        for entry in comma_list:\n",
    "            b.insert(entry, \",\")\n",
    "\n",
    "        b = \" \".join(b)\n",
    "        b = string.capwords(b)\n",
    "\n",
    "        new_a.append(b)\n",
    "\n",
    "    return new_a"
   ]
  },
  {
   "cell_type": "code",
   "execution_count": 239,
   "metadata": {},
   "outputs": [],
   "source": [
    "new_a = clean_it(a)"
   ]
  },
  {
   "cell_type": "code",
   "execution_count": 248,
   "metadata": {},
   "outputs": [],
   "source": [
    "df[\"Based on\"] = np.tile(new_a, 1)"
   ]
  },
  {
   "cell_type": "code",
   "execution_count": 262,
   "metadata": {},
   "outputs": [],
   "source": [
    "df[\"Based on\"] = df[\"Based on\"].convert_dtypes()"
   ]
  },
  {
   "cell_type": "code",
   "execution_count": 268,
   "metadata": {},
   "outputs": [],
   "source": [
    "test = list(df.columns)"
   ]
  },
  {
   "cell_type": "code",
   "execution_count": 280,
   "metadata": {},
   "outputs": [],
   "source": [
    "for entry in df.columns:\n",
    "    df[entry] = df[entry].convert_dtypes()"
   ]
  },
  {
   "cell_type": "code",
   "execution_count": 299,
   "metadata": {},
   "outputs": [],
   "source": [
    "df[\"Imdb Rating\"] = df[\"Imdb Rating\"].replace(\"N/A\", 0).astype(np.float32)"
   ]
  },
  {
   "cell_type": "code",
   "execution_count": 328,
   "metadata": {},
   "outputs": [],
   "source": [
    "df.to_csv(\"Disney_movies_data_final.csv\", index=False)"
   ]
  },
  {
   "cell_type": "code",
   "execution_count": null,
   "metadata": {},
   "outputs": [],
   "source": []
  }
 ],
 "metadata": {
  "kernelspec": {
   "name": "Python 3.7.9 64-bit ('caffe': conda)",
   "display_name": "Python 3.7.9 64-bit ('caffe': conda)",
   "metadata": {
    "interpreter": {
     "hash": "227d02aba6ce169f04a8260f6cd2afd11c06ac85405abbcafe9906d52a5d3dc8"
    }
   }
  },
  "language_info": {
   "codemirror_mode": {
    "name": "ipython",
    "version": 3
   },
   "file_extension": ".py",
   "mimetype": "text/x-python",
   "name": "python",
   "nbconvert_exporter": "python",
   "pygments_lexer": "ipython3",
   "version": "3.7.9-final"
  }
 },
 "nbformat": 4,
 "nbformat_minor": 2
}